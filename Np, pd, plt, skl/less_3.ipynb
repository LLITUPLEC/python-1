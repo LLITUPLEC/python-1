{
  "nbformat": 4,
  "nbformat_minor": 0,
  "metadata": {
    "colab": {
      "name": "less-3.ipynb",
      "provenance": [],
      "collapsed_sections": []
    },
    "kernelspec": {
      "name": "python3",
      "display_name": "Python 3"
    },
    "language_info": {
      "name": "python"
    }
  },
  "cells": [
    {
      "cell_type": "markdown",
      "metadata": {
        "id": "_uLev8j5tM9x"
      },
      "source": [
        "## ***Задание №1***\n"
      ]
    },
    {
      "cell_type": "code",
      "metadata": {
        "id": "5X8m3NGqbTEZ"
      },
      "source": [
        "import numpy as np\n",
        "import pandas as pd\n",
        "from sklearn.datasets import load_boston"
      ],
      "execution_count": 10,
      "outputs": []
    },
    {
      "cell_type": "code",
      "metadata": {
        "id": "VcNShTkQbsv0"
      },
      "source": [
        "boston = load_boston()\n",
        "boston"
      ],
      "execution_count": null,
      "outputs": []
    },
    {
      "cell_type": "code",
      "metadata": {
        "colab": {
          "base_uri": "https://localhost:8080/"
        },
        "id": "7WE3rQPMqrrC",
        "outputId": "2eda9215-e39d-4ede-c5a8-519c687d5dc4"
      },
      "source": [
        "data = boston[\"data\"]\n",
        "feature_names = boston[\"feature_names\"]\n",
        "feature_names"
      ],
      "execution_count": 26,
      "outputs": [
        {
          "output_type": "execute_result",
          "data": {
            "text/plain": [
              "array(['CRIM', 'ZN', 'INDUS', 'CHAS', 'NOX', 'RM', 'AGE', 'DIS', 'RAD',\n",
              "       'TAX', 'PTRATIO', 'B', 'LSTAT'], dtype='<U7')"
            ]
          },
          "metadata": {
            "tags": []
          },
          "execution_count": 26
        }
      ]
    },
    {
      "cell_type": "code",
      "metadata": {
        "id": "o9o6BDR4rNrZ"
      },
      "source": [
        "X = pd.DataFrame(data, columns=feature_names)\n",
        "X"
      ],
      "execution_count": null,
      "outputs": []
    },
    {
      "cell_type": "code",
      "metadata": {
        "id": "BAZermS0sO9p"
      },
      "source": [
        "target = boston[\"target\"]\n",
        "\n",
        "Y = pd.DataFrame(target, columns=[\"price\"])\n",
        "Y"
      ],
      "execution_count": null,
      "outputs": []
    },
    {
      "cell_type": "markdown",
      "metadata": {
        "id": "NkX1tzoMtaDJ"
      },
      "source": [
        "\n",
        "\n",
        "*   Разбейте эти датафреймы на тренировочные (X_train, y_train) и тестовые (X_test, y_test) с помощью функции **train_test_split** так, чтобы размер тестовой выборки составлял 30% от всех данных, при этом аргумент random_state должен быть равен 42\n",
        "\n"
      ]
    },
    {
      "cell_type": "code",
      "metadata": {
        "id": "NDiIButVtn8y"
      },
      "source": [
        "from sklearn.model_selection import train_test_split"
      ],
      "execution_count": 29,
      "outputs": []
    },
    {
      "cell_type": "code",
      "metadata": {
        "id": "XC2y0Clhtq5x"
      },
      "source": [
        "X_train, X_test, Y_train, Y_test = train_test_split(X, Y, test_size=0.3, random_state=42)"
      ],
      "execution_count": 30,
      "outputs": []
    },
    {
      "cell_type": "code",
      "metadata": {
        "id": "dDNPz0VJxvxt"
      },
      "source": [
        "from sklearn.linear_model import LinearRegression"
      ],
      "execution_count": 31,
      "outputs": []
    },
    {
      "cell_type": "code",
      "metadata": {
        "colab": {
          "base_uri": "https://localhost:8080/"
        },
        "id": "sohUhliexw0C",
        "outputId": "d2cfc3e5-1283-4e2f-f87c-45d069771237"
      },
      "source": [
        "lr = LinearRegression()\n",
        "lr.fit(X_train, Y_train)"
      ],
      "execution_count": 34,
      "outputs": [
        {
          "output_type": "execute_result",
          "data": {
            "text/plain": [
              "LinearRegression(copy_X=True, fit_intercept=True, n_jobs=None, normalize=False)"
            ]
          },
          "metadata": {
            "tags": []
          },
          "execution_count": 34
        }
      ]
    },
    {
      "cell_type": "code",
      "metadata": {
        "colab": {
          "base_uri": "https://localhost:8080/",
          "height": 419
        },
        "id": "XKrPwj7ByOTD",
        "outputId": "449cec6a-88a2-403e-b2b8-1863069fc3b9"
      },
      "source": [
        "pred_lr = lr.predict(X_test)\n",
        "check_test_lr = pd.DataFrame({\n",
        "    \"Y_test\": Y_test[\"price\"], \n",
        "    \"Y_pred_lr\": pred_lr.flatten()})\n",
        "\n",
        "check_test_lr"
      ],
      "execution_count": 37,
      "outputs": [
        {
          "output_type": "execute_result",
          "data": {
            "text/html": [
              "<div>\n",
              "<style scoped>\n",
              "    .dataframe tbody tr th:only-of-type {\n",
              "        vertical-align: middle;\n",
              "    }\n",
              "\n",
              "    .dataframe tbody tr th {\n",
              "        vertical-align: top;\n",
              "    }\n",
              "\n",
              "    .dataframe thead th {\n",
              "        text-align: right;\n",
              "    }\n",
              "</style>\n",
              "<table border=\"1\" class=\"dataframe\">\n",
              "  <thead>\n",
              "    <tr style=\"text-align: right;\">\n",
              "      <th></th>\n",
              "      <th>Y_test</th>\n",
              "      <th>Y_pred_lr</th>\n",
              "    </tr>\n",
              "  </thead>\n",
              "  <tbody>\n",
              "    <tr>\n",
              "      <th>173</th>\n",
              "      <td>23.6</td>\n",
              "      <td>28.648960</td>\n",
              "    </tr>\n",
              "    <tr>\n",
              "      <th>274</th>\n",
              "      <td>32.4</td>\n",
              "      <td>36.495014</td>\n",
              "    </tr>\n",
              "    <tr>\n",
              "      <th>491</th>\n",
              "      <td>13.6</td>\n",
              "      <td>15.411193</td>\n",
              "    </tr>\n",
              "    <tr>\n",
              "      <th>72</th>\n",
              "      <td>22.8</td>\n",
              "      <td>25.403213</td>\n",
              "    </tr>\n",
              "    <tr>\n",
              "      <th>452</th>\n",
              "      <td>16.1</td>\n",
              "      <td>18.855280</td>\n",
              "    </tr>\n",
              "    <tr>\n",
              "      <th>...</th>\n",
              "      <td>...</td>\n",
              "      <td>...</td>\n",
              "    </tr>\n",
              "    <tr>\n",
              "      <th>441</th>\n",
              "      <td>17.1</td>\n",
              "      <td>17.403672</td>\n",
              "    </tr>\n",
              "    <tr>\n",
              "      <th>23</th>\n",
              "      <td>14.5</td>\n",
              "      <td>13.385941</td>\n",
              "    </tr>\n",
              "    <tr>\n",
              "      <th>225</th>\n",
              "      <td>50.0</td>\n",
              "      <td>39.983425</td>\n",
              "    </tr>\n",
              "    <tr>\n",
              "      <th>433</th>\n",
              "      <td>14.3</td>\n",
              "      <td>16.682863</td>\n",
              "    </tr>\n",
              "    <tr>\n",
              "      <th>447</th>\n",
              "      <td>12.6</td>\n",
              "      <td>18.285618</td>\n",
              "    </tr>\n",
              "  </tbody>\n",
              "</table>\n",
              "<p>152 rows × 2 columns</p>\n",
              "</div>"
            ],
            "text/plain": [
              "     Y_test  Y_pred_lr\n",
              "173    23.6  28.648960\n",
              "274    32.4  36.495014\n",
              "491    13.6  15.411193\n",
              "72     22.8  25.403213\n",
              "452    16.1  18.855280\n",
              "..      ...        ...\n",
              "441    17.1  17.403672\n",
              "23     14.5  13.385941\n",
              "225    50.0  39.983425\n",
              "433    14.3  16.682863\n",
              "447    12.6  18.285618\n",
              "\n",
              "[152 rows x 2 columns]"
            ]
          },
          "metadata": {
            "tags": []
          },
          "execution_count": 37
        }
      ]
    },
    {
      "cell_type": "code",
      "metadata": {
        "id": "a5HgS2w51F_R"
      },
      "source": [
        "from sklearn.metrics import mean_squared_error"
      ],
      "execution_count": 38,
      "outputs": []
    },
    {
      "cell_type": "code",
      "metadata": {
        "colab": {
          "base_uri": "https://localhost:8080/"
        },
        "id": "8vRtm3Ot1IPg",
        "outputId": "9d3b308c-72a3-4479-c8c0-a017db5cd265"
      },
      "source": [
        "mean_squared_error_lr = mean_squared_error(check_test_lr[\"Y_pred_lr\"], check_test_lr[\"Y_test\"])\n",
        "mean_squared_error_lr"
      ],
      "execution_count": 40,
      "outputs": [
        {
          "output_type": "execute_result",
          "data": {
            "text/plain": [
              "21.5174442311769"
            ]
          },
          "metadata": {
            "tags": []
          },
          "execution_count": 40
        }
      ]
    },
    {
      "cell_type": "markdown",
      "metadata": {
        "id": "R6lx2PdT1hG_"
      },
      "source": [
        "## ***Задание №2***\n"
      ]
    },
    {
      "cell_type": "markdown",
      "metadata": {
        "id": "01VsIxUp1n3r"
      },
      "source": [
        "\n",
        "\n",
        "*   Создайте модель под названием model с помощью RandomForestRegressor из модуля sklearn.ensemble\n",
        "\n"
      ]
    },
    {
      "cell_type": "code",
      "metadata": {
        "id": "lS66L85r1qqC"
      },
      "source": [
        "from sklearn.ensemble import RandomForestRegressor"
      ],
      "execution_count": 41,
      "outputs": []
    },
    {
      "cell_type": "code",
      "metadata": {
        "colab": {
          "base_uri": "https://localhost:8080/"
        },
        "id": "L5v_koHe2Kw6",
        "outputId": "3a52f40d-eb7e-4469-a2bf-b55f92093c45"
      },
      "source": [
        "model = RandomForestRegressor(n_estimators=1000, max_depth=12, random_state=42)\n",
        "model"
      ],
      "execution_count": 46,
      "outputs": [
        {
          "output_type": "execute_result",
          "data": {
            "text/plain": [
              "RandomForestRegressor(bootstrap=True, ccp_alpha=0.0, criterion='mse',\n",
              "                      max_depth=12, max_features='auto', max_leaf_nodes=None,\n",
              "                      max_samples=None, min_impurity_decrease=0.0,\n",
              "                      min_impurity_split=None, min_samples_leaf=1,\n",
              "                      min_samples_split=2, min_weight_fraction_leaf=0.0,\n",
              "                      n_estimators=1000, n_jobs=None, oob_score=False,\n",
              "                      random_state=42, verbose=0, warm_start=False)"
            ]
          },
          "metadata": {
            "tags": []
          },
          "execution_count": 46
        }
      ]
    },
    {
      "cell_type": "code",
      "metadata": {
        "colab": {
          "base_uri": "https://localhost:8080/"
        },
        "id": "wP52Yyl-3U0j",
        "outputId": "4df4d402-9a8b-4317-b25e-478412772d35"
      },
      "source": [
        "model.fit(X_train, Y_train.values[:, 0])"
      ],
      "execution_count": 47,
      "outputs": [
        {
          "output_type": "execute_result",
          "data": {
            "text/plain": [
              "RandomForestRegressor(bootstrap=True, ccp_alpha=0.0, criterion='mse',\n",
              "                      max_depth=12, max_features='auto', max_leaf_nodes=None,\n",
              "                      max_samples=None, min_impurity_decrease=0.0,\n",
              "                      min_impurity_split=None, min_samples_leaf=1,\n",
              "                      min_samples_split=2, min_weight_fraction_leaf=0.0,\n",
              "                      n_estimators=1000, n_jobs=None, oob_score=False,\n",
              "                      random_state=42, verbose=0, warm_start=False)"
            ]
          },
          "metadata": {
            "tags": []
          },
          "execution_count": 47
        }
      ]
    },
    {
      "cell_type": "code",
      "metadata": {
        "colab": {
          "base_uri": "https://localhost:8080/",
          "height": 204
        },
        "id": "6vKUzBSY3n3C",
        "outputId": "c9ae7553-a973-4afd-c31c-1de2df1e49e3"
      },
      "source": [
        "y_pred_model = model.predict(X_test)\n",
        "check_test_model = pd.DataFrame({\n",
        "    \"Y_test\": Y_test[\"price\"], \n",
        "    \"Y_pred_model\": y_pred_model.flatten()})\n",
        "\n",
        "check_test_model.head()"
      ],
      "execution_count": 49,
      "outputs": [
        {
          "output_type": "execute_result",
          "data": {
            "text/html": [
              "<div>\n",
              "<style scoped>\n",
              "    .dataframe tbody tr th:only-of-type {\n",
              "        vertical-align: middle;\n",
              "    }\n",
              "\n",
              "    .dataframe tbody tr th {\n",
              "        vertical-align: top;\n",
              "    }\n",
              "\n",
              "    .dataframe thead th {\n",
              "        text-align: right;\n",
              "    }\n",
              "</style>\n",
              "<table border=\"1\" class=\"dataframe\">\n",
              "  <thead>\n",
              "    <tr style=\"text-align: right;\">\n",
              "      <th></th>\n",
              "      <th>Y_test</th>\n",
              "      <th>Y_pred_model</th>\n",
              "    </tr>\n",
              "  </thead>\n",
              "  <tbody>\n",
              "    <tr>\n",
              "      <th>173</th>\n",
              "      <td>23.6</td>\n",
              "      <td>22.846138</td>\n",
              "    </tr>\n",
              "    <tr>\n",
              "      <th>274</th>\n",
              "      <td>32.4</td>\n",
              "      <td>31.156114</td>\n",
              "    </tr>\n",
              "    <tr>\n",
              "      <th>491</th>\n",
              "      <td>13.6</td>\n",
              "      <td>16.297226</td>\n",
              "    </tr>\n",
              "    <tr>\n",
              "      <th>72</th>\n",
              "      <td>22.8</td>\n",
              "      <td>23.821036</td>\n",
              "    </tr>\n",
              "    <tr>\n",
              "      <th>452</th>\n",
              "      <td>16.1</td>\n",
              "      <td>17.212148</td>\n",
              "    </tr>\n",
              "  </tbody>\n",
              "</table>\n",
              "</div>"
            ],
            "text/plain": [
              "     Y_test  Y_pred_model\n",
              "173    23.6     22.846138\n",
              "274    32.4     31.156114\n",
              "491    13.6     16.297226\n",
              "72     22.8     23.821036\n",
              "452    16.1     17.212148"
            ]
          },
          "metadata": {
            "tags": []
          },
          "execution_count": 49
        }
      ]
    },
    {
      "cell_type": "code",
      "metadata": {
        "colab": {
          "base_uri": "https://localhost:8080/"
        },
        "id": "sOFMcd4t31Iq",
        "outputId": "ba36a9cc-47bb-4f3b-8205-39cd6fccfc39"
      },
      "source": [
        "mean_squared_error_model = mean_squared_error(check_test_model[\"Y_pred_model\"], check_test_model[\"Y_test\"])\n",
        "mean_squared_error_model"
      ],
      "execution_count": 53,
      "outputs": [
        {
          "output_type": "execute_result",
          "data": {
            "text/plain": [
              "9.31439570598467"
            ]
          },
          "metadata": {
            "tags": []
          },
          "execution_count": 53
        }
      ]
    },
    {
      "cell_type": "markdown",
      "metadata": {
        "id": "oXVzY8cQ4Udi"
      },
      "source": [
        "\n",
        "\n",
        "*   Сравните с результатом из предыдущего задания.\n",
        "*   Напишите в комментариях к коду, какая модель в данном случае работает лучше.\n",
        "\n",
        "\n"
      ]
    },
    {
      "cell_type": "code",
      "metadata": {
        "colab": {
          "base_uri": "https://localhost:8080/"
        },
        "id": "WwOrDSyw4cAC",
        "outputId": "aa01499e-c6c8-4d29-989e-0a2e74ce62af"
      },
      "source": [
        "print(mean_squared_error_lr)\n",
        "print(mean_squared_error_model)"
      ],
      "execution_count": 55,
      "outputs": [
        {
          "output_type": "stream",
          "text": [
            "21.5174442311769\n",
            "9.31439570598467\n"
          ],
          "name": "stdout"
        }
      ]
    },
    {
      "cell_type": "markdown",
      "metadata": {
        "id": "XE400spD42Co"
      },
      "source": [
        "Модель \"RandomForest\" показывает более точные результаты, чем \"LinearRegression\". Точнее в **2,3** раза."
      ]
    },
    {
      "cell_type": "markdown",
      "metadata": {
        "id": "vO56TUCn6xSu"
      },
      "source": [
        "## ***Задание №3***\n"
      ]
    },
    {
      "cell_type": "markdown",
      "metadata": {
        "id": "fQzqzSQ36zLe"
      },
      "source": [
        "*   Вызовите документацию для класса RandomForestRegressor"
      ]
    },
    {
      "cell_type": "code",
      "metadata": {
        "id": "T7TjAj_466PM"
      },
      "source": [
        "?RandomForestRegressor"
      ],
      "execution_count": 56,
      "outputs": []
    },
    {
      "cell_type": "markdown",
      "metadata": {
        "id": "RgkrIBbR7Dwq"
      },
      "source": [
        "\n",
        "\n",
        "*   найдите информацию об атрибуте feature_importances_\n",
        "\n"
      ]
    },
    {
      "cell_type": "markdown",
      "metadata": {
        "id": "Vq9yUxSj8cSN"
      },
      "source": [
        "feature_importances_ : ndarray of shape (n_features,)\n",
        "    The feature importances (the higher, the more important the feature)."
      ]
    },
    {
      "cell_type": "code",
      "metadata": {
        "colab": {
          "base_uri": "https://localhost:8080/"
        },
        "id": "Aus9MqyD8wAr",
        "outputId": "6f7460b2-eb96-465c-bc28-16e53dae92d6"
      },
      "source": [
        "print(model.feature_importances_)"
      ],
      "execution_count": 61,
      "outputs": [
        {
          "output_type": "stream",
          "text": [
            "[0.03211748 0.00154999 0.0070941  0.0011488  0.01436832 0.40270459\n",
            " 0.01424477 0.06403265 0.00496762 0.01169177 0.01808961 0.0123114\n",
            " 0.41567892]\n"
          ],
          "name": "stdout"
        }
      ]
    },
    {
      "cell_type": "markdown",
      "metadata": {
        "id": "BCjXcytX9oi2"
      },
      "source": [
        "\n",
        "\n",
        "*   С помощью этого атрибута найдите сумму всех показателей важности\n",
        "\n"
      ]
    },
    {
      "cell_type": "code",
      "metadata": {
        "colab": {
          "base_uri": "https://localhost:8080/"
        },
        "id": "EhVn_KId8-uu",
        "outputId": "39dc2fd7-4b18-4bf0-b85d-8b76c3d16d97"
      },
      "source": [
        "model.feature_importances_.sum()"
      ],
      "execution_count": 62,
      "outputs": [
        {
          "output_type": "execute_result",
          "data": {
            "text/plain": [
              "0.9999999999999999"
            ]
          },
          "metadata": {
            "tags": []
          },
          "execution_count": 62
        }
      ]
    },
    {
      "cell_type": "code",
      "metadata": {
        "colab": {
          "base_uri": "https://localhost:8080/",
          "height": 452
        },
        "id": "z2fyhj0h9eU0",
        "outputId": "bd535ec4-8aee-449d-9f1e-a646b3a19a66"
      },
      "source": [
        "df_fi = pd.DataFrame({'name':X.columns, \n",
        "                                   'feature_importance':model.feature_importances_}, \n",
        "                                  columns=['feature_importance', 'name'])\n",
        "df_fi"
      ],
      "execution_count": 63,
      "outputs": [
        {
          "output_type": "execute_result",
          "data": {
            "text/html": [
              "<div>\n",
              "<style scoped>\n",
              "    .dataframe tbody tr th:only-of-type {\n",
              "        vertical-align: middle;\n",
              "    }\n",
              "\n",
              "    .dataframe tbody tr th {\n",
              "        vertical-align: top;\n",
              "    }\n",
              "\n",
              "    .dataframe thead th {\n",
              "        text-align: right;\n",
              "    }\n",
              "</style>\n",
              "<table border=\"1\" class=\"dataframe\">\n",
              "  <thead>\n",
              "    <tr style=\"text-align: right;\">\n",
              "      <th></th>\n",
              "      <th>feature_importance</th>\n",
              "      <th>name</th>\n",
              "    </tr>\n",
              "  </thead>\n",
              "  <tbody>\n",
              "    <tr>\n",
              "      <th>0</th>\n",
              "      <td>0.032117</td>\n",
              "      <td>CRIM</td>\n",
              "    </tr>\n",
              "    <tr>\n",
              "      <th>1</th>\n",
              "      <td>0.001550</td>\n",
              "      <td>ZN</td>\n",
              "    </tr>\n",
              "    <tr>\n",
              "      <th>2</th>\n",
              "      <td>0.007094</td>\n",
              "      <td>INDUS</td>\n",
              "    </tr>\n",
              "    <tr>\n",
              "      <th>3</th>\n",
              "      <td>0.001149</td>\n",
              "      <td>CHAS</td>\n",
              "    </tr>\n",
              "    <tr>\n",
              "      <th>4</th>\n",
              "      <td>0.014368</td>\n",
              "      <td>NOX</td>\n",
              "    </tr>\n",
              "    <tr>\n",
              "      <th>5</th>\n",
              "      <td>0.402705</td>\n",
              "      <td>RM</td>\n",
              "    </tr>\n",
              "    <tr>\n",
              "      <th>6</th>\n",
              "      <td>0.014245</td>\n",
              "      <td>AGE</td>\n",
              "    </tr>\n",
              "    <tr>\n",
              "      <th>7</th>\n",
              "      <td>0.064033</td>\n",
              "      <td>DIS</td>\n",
              "    </tr>\n",
              "    <tr>\n",
              "      <th>8</th>\n",
              "      <td>0.004968</td>\n",
              "      <td>RAD</td>\n",
              "    </tr>\n",
              "    <tr>\n",
              "      <th>9</th>\n",
              "      <td>0.011692</td>\n",
              "      <td>TAX</td>\n",
              "    </tr>\n",
              "    <tr>\n",
              "      <th>10</th>\n",
              "      <td>0.018090</td>\n",
              "      <td>PTRATIO</td>\n",
              "    </tr>\n",
              "    <tr>\n",
              "      <th>11</th>\n",
              "      <td>0.012311</td>\n",
              "      <td>B</td>\n",
              "    </tr>\n",
              "    <tr>\n",
              "      <th>12</th>\n",
              "      <td>0.415679</td>\n",
              "      <td>LSTAT</td>\n",
              "    </tr>\n",
              "  </tbody>\n",
              "</table>\n",
              "</div>"
            ],
            "text/plain": [
              "    feature_importance     name\n",
              "0             0.032117     CRIM\n",
              "1             0.001550       ZN\n",
              "2             0.007094    INDUS\n",
              "3             0.001149     CHAS\n",
              "4             0.014368      NOX\n",
              "5             0.402705       RM\n",
              "6             0.014245      AGE\n",
              "7             0.064033      DIS\n",
              "8             0.004968      RAD\n",
              "9             0.011692      TAX\n",
              "10            0.018090  PTRATIO\n",
              "11            0.012311        B\n",
              "12            0.415679    LSTAT"
            ]
          },
          "metadata": {
            "tags": []
          },
          "execution_count": 63
        }
      ]
    },
    {
      "cell_type": "markdown",
      "metadata": {
        "id": "RQCnU-s19uec"
      },
      "source": [
        "\n",
        "\n",
        "*   установите, какие два признака показывают наибольшую важность\n",
        "\n"
      ]
    },
    {
      "cell_type": "code",
      "metadata": {
        "colab": {
          "base_uri": "https://localhost:8080/",
          "height": 111
        },
        "id": "WNpBv99O9xgh",
        "outputId": "fa4794b9-aadd-4981-a94b-66ce5066ce52"
      },
      "source": [
        "df_fi.nlargest(2, 'feature_importance')"
      ],
      "execution_count": 64,
      "outputs": [
        {
          "output_type": "execute_result",
          "data": {
            "text/html": [
              "<div>\n",
              "<style scoped>\n",
              "    .dataframe tbody tr th:only-of-type {\n",
              "        vertical-align: middle;\n",
              "    }\n",
              "\n",
              "    .dataframe tbody tr th {\n",
              "        vertical-align: top;\n",
              "    }\n",
              "\n",
              "    .dataframe thead th {\n",
              "        text-align: right;\n",
              "    }\n",
              "</style>\n",
              "<table border=\"1\" class=\"dataframe\">\n",
              "  <thead>\n",
              "    <tr style=\"text-align: right;\">\n",
              "      <th></th>\n",
              "      <th>feature_importance</th>\n",
              "      <th>name</th>\n",
              "    </tr>\n",
              "  </thead>\n",
              "  <tbody>\n",
              "    <tr>\n",
              "      <th>12</th>\n",
              "      <td>0.415679</td>\n",
              "      <td>LSTAT</td>\n",
              "    </tr>\n",
              "    <tr>\n",
              "      <th>5</th>\n",
              "      <td>0.402705</td>\n",
              "      <td>RM</td>\n",
              "    </tr>\n",
              "  </tbody>\n",
              "</table>\n",
              "</div>"
            ],
            "text/plain": [
              "    feature_importance   name\n",
              "12            0.415679  LSTAT\n",
              "5             0.402705     RM"
            ]
          },
          "metadata": {
            "tags": []
          },
          "execution_count": 64
        }
      ]
    }
  ]
}